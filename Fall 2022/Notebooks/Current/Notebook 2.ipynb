{
 "cells": [
  {
   "cell_type": "markdown",
   "source": [
    "<p align=\"center\">\n",
    "    <img src=\"https://github.com/GeostatsGuy/GeostatsPy/blob/master/TCG_color_logo.png?raw=true\" width=\"220\" height=\"240\" />\n",
    "\n",
    "</p>\n",
    "\n",
    "\n",
    "### Stabilized Representations in Lower Dimensional Space\n",
    "\n",
    "\n",
    "#### Midé Mabadeje$^{1}$ (PhD Candidate) & Michael Pyrcz$^{1,2}$ (Associate Professor), University of Texas at Austin\n",
    "\n",
    " 1. Hildebrand Department of Petroleum and Geosystems Engineering, Cockrell School of Engineering\n",
    "\n",
    " 2. Department of Geological Sciences, Jackson School of Geosciences"
   ],
   "metadata": {
    "collapsed": false
   }
  },
  {
   "cell_type": "markdown",
   "source": [
    "Load results saved to npy in Notebook 1 from multiple N realizations consisting of 100 sub-realizations."
   ],
   "metadata": {
    "collapsed": false
   }
  },
  {
   "cell_type": "code",
   "execution_count": null,
   "outputs": [],
   "source": [
    "# np.load('path/to/my_array.npy')"
   ],
   "metadata": {
    "collapsed": false
   }
  },
  {
   "cell_type": "markdown",
   "source": [
    "## Ademide (Midé) Mabadeje, Ph.D.Candidate, University of Texas at Austin\n",
    "\n",
    "\n",
    "Midé is currently working on Geostatistics – spatial data analytics, where she is creating novel workflows and data-driven algorithms to debias and reduce uncertainty in subsurface prediction models. Her Ph.D. research revolves around creating new data analytics and ML workflows to address various sources of spatial and/or subsurface bias to obtain representative sampling to impact decision making and economic development.\n",
    "\n",
    "For more about Midé check out these links:\n",
    "\n",
    "####  [GitHub](https://github.com/Mide478) | [GoogleScholar](https://scholar.google.com/citations?user=9nksjzQAAAAJ&hl=en&oi=ao)  | [LinkedIn](https://www.linkedin.com/in/ademidemabadeje)\n",
    "\n",
    "\n",
    "I am open to internships and collaborations in related research areas and disciplines underlined with spatial statistics. I can be reached at ademidemabadeje@austin.utexas.edu.\n",
    "\n",
    "## Michael Pyrcz, Associate Professor, University of Texas at Austin\n",
    "*Novel Data Analytics, Geostatistics and Machine Learning Subsurface Solutions*\n",
    "\n",
    "With over 17 years of experience in subsurface consulting, research and development, Michael has returned to academia driven by his passion for teaching and enthusiasm for enhancing engineers' and geoscientists' impact in subsurface resource development.\n",
    "\n",
    "For more about Michael check out these links:\n",
    "\n",
    "#### [Twitter](https://twitter.com/geostatsguy) | [GitHub](https://github.com/GeostatsGuy) | [Website](https://michaelpyrcz.com) | [GoogleScholar](https://scholar.google.com/citations?user=QVZ20eQAAAAJ&hl=en&oi=ao) | [Book](https://www.amazon.com/Geostatistical-Reservoir-Modeling-Michael-Pyrcz/dp/0199731446) | [YouTube](https://www.youtube.com/channel/UCLqEr-xV-ceHdXXXrTId5ig)  | [LinkedIn](https://www.linkedin.com/in/michael-pyrcz-61a648a1)\n",
    "\n",
    "\n",
    "<br>\n",
    "\n",
    "\n",
    "We hope this was helpful,\n",
    "\n",
    "*Midé & Michael*\n",
    "\n",
    "\n",
    "\n",
    "Midé Mabadeje, Graduate Research Assistant The Hildebrand Department of Petroleum and Geosystems Engineering, The University of Texas at Austin\n",
    "\n",
    "Michael Pyrcz, Ph.D., P.Eng. Associate Professor The Hildebrand Department of Petroleum and Geosystems Engineering, Bureau of Economic Geology, The Jackson School of Geosciences, The University of Texas at Austin"
   ],
   "metadata": {
    "collapsed": false
   }
  },
  {
   "cell_type": "code",
   "execution_count": null,
   "outputs": [],
   "source": [
    "0.06221/0.06174"
   ],
   "metadata": {
    "collapsed": false
   }
  },
  {
   "cell_type": "code",
   "execution_count": null,
   "outputs": [],
   "source": [],
   "metadata": {
    "collapsed": false
   }
  }
 ],
 "metadata": {
  "hide_input": false,
  "kernelspec": {
   "display_name": "Python 3",
   "language": "python",
   "name": "python3"
  },
  "language_info": {
   "codemirror_mode": {
    "name": "ipython",
    "version": 3
   },
   "file_extension": ".py",
   "mimetype": "text/x-python",
   "name": "python",
   "nbconvert_exporter": "python",
   "pygments_lexer": "ipython3",
   "version": "3.7.6"
  },
  "toc": {
   "base_numbering": 1,
   "nav_menu": {},
   "number_sections": true,
   "sideBar": true,
   "skip_h1_title": false,
   "title_cell": "Table of Contents",
   "title_sidebar": "Contents",
   "toc_cell": false,
   "toc_position": {},
   "toc_section_display": true,
   "toc_window_display": false
  }
 },
 "nbformat": 4,
 "nbformat_minor": 2
}
